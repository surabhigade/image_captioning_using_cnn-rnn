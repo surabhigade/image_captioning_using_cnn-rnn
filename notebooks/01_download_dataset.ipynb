{
 "cells": [
  {
   "cell_type": "markdown",
   "id": "dbb27813",
   "metadata": {},
   "source": [
    "# Download Flickr8k Dataset\n",
    "This notebook downloads and organizes the Flickr8k dataset, including images and captions."
   ]
  },
  {
   "cell_type": "code",
   "execution_count": 1,
   "id": "172c5ff4",
   "metadata": {},
   "outputs": [],
   "source": [
    "# Import required libraries\n",
    "import os\n",
    "import requests\n",
    "from zipfile import ZipFile"
   ]
  },
  {
   "cell_type": "markdown",
   "id": "1140667d",
   "metadata": {},
   "source": [
    "## Define URLs and Paths\n",
    "Set up the URLs for downloading the dataset and the paths for saving the files."
   ]
  },
  {
   "cell_type": "code",
   "execution_count": 2,
   "id": "e57a72f5",
   "metadata": {},
   "outputs": [],
   "source": [
    "# URLs for Flickr8k dataset\n",
    "images_url = 'https://github.com/jbrownlee/Datasets/releases/download/Flickr8k/Flickr8k_Dataset.zip'\n",
    "captions_url = 'https://github.com/jbrownlee/Datasets/releases/download/Flickr8k/Flickr8k_text.zip'\n",
    "\n",
    "# Paths for saving the dataset\n",
    "data_dir = '../data/'\n",
    "images_dir = os.path.join(data_dir, 'images/')\n",
    "captions_file = os.path.join(data_dir, 'captions.txt')\n",
    "\n",
    "# Create directories if they don't exist\n",
    "os.makedirs(images_dir, exist_ok=True)"
   ]
  },
  {
   "cell_type": "markdown",
   "id": "2113a2bc",
   "metadata": {},
   "source": [
    "## Download and Extract Dataset\n",
    "Download the images and captions, then extract them into the appropriate folders."
   ]
  },
  {
   "cell_type": "code",
   "execution_count": 3,
   "id": "fc2731e6",
   "metadata": {},
   "outputs": [
    {
     "name": "stdout",
     "output_type": "stream",
     "text": [
      "../data/Flickr8k_Dataset.zip already exists.\n",
      "Extracting ../data/Flickr8k_Dataset.zip...\n",
      "Extraction complete.\n",
      "../data/Flickr8k_text.zip already exists.\n",
      "Extracting ../data/Flickr8k_text.zip...\n",
      "Extraction complete.\n"
     ]
    }
   ],
   "source": [
    "def download_and_extract(url, extract_to):\n",
    "    \"\"\"Download and extract a zip file from a URL.\"\"\"\n",
    "    zip_path = os.path.join(data_dir, url.split('/')[-1])\n",
    "    if not os.path.exists(zip_path):\n",
    "        print(f'Downloading {url}...')\n",
    "        response = requests.get(url)\n",
    "        with open(zip_path, 'wb') as f:\n",
    "            f.write(response.content)\n",
    "        print('Download complete.')\n",
    "    else:\n",
    "        print(f'{zip_path} already exists.')\n",
    "\n",
    "    print(f'Extracting {zip_path}...')\n",
    "    with ZipFile(zip_path, 'r') as zip_ref:\n",
    "        zip_ref.extractall(extract_to)\n",
    "    print('Extraction complete.')\n",
    "\n",
    "# Download and extract images\n",
    "download_and_extract(images_url, images_dir)\n",
    "\n",
    "# Download and extract captions\n",
    "download_and_extract(captions_url, data_dir)"
   ]
  },
  {
   "cell_type": "code",
   "execution_count": null,
   "id": "8916f53a",
   "metadata": {},
   "outputs": [],
   "source": []
  },
  {
   "cell_type": "markdown",
   "id": "2602f0ed",
   "metadata": {},
   "source": [
    "## Verify Dataset\n",
    "Check the number of images and the captions file."
   ]
  },
  {
   "cell_type": "code",
   "execution_count": 5,
   "id": "835b3a28",
   "metadata": {},
   "outputs": [
    {
     "name": "stdout",
     "output_type": "stream",
     "text": [
      "Total images: 2\n",
      "Sample images: ['Flicker8k_Dataset', '__MACOSX']\n",
      "Captions file not found.\n",
      "Flickr8k.lemma.token.txt found.\n",
      "Sample lines from Flickr8k.lemma.token.txt:\n",
      "1305564994_00513f9a5b.jpg#0\tA man in street racer armor be examine the tire of another racer 's motorbike .\n",
      "1305564994_00513f9a5b.jpg#1\tTwo racer drive a white bike down a road .\n",
      "1305564994_00513f9a5b.jpg#2\tTwo motorist be ride along on their vehicle that be oddly design and color .\n",
      "1305564994_00513f9a5b.jpg#3\tTwo person be in a small race car drive by a green hill .\n",
      "1305564994_00513f9a5b.jpg#4\tTwo person in race uniform in a street car .\n",
      "Flickr_8k.trainImages.txt found.\n",
      "Sample lines from Flickr_8k.trainImages.txt:\n",
      "2513260012_03d33305cf.jpg\n",
      "2903617548_d3e38d7f88.jpg\n",
      "3338291921_fe7ae0c8f8.jpg\n",
      "488416045_1c6d903fe0.jpg\n",
      "2644326817_8f45080b87.jpg\n",
      "Flickr_8k.devImages.txt found.\n",
      "Sample lines from Flickr_8k.devImages.txt:\n",
      "2090545563_a4e66ec76b.jpg\n",
      "3393035454_2d2370ffd4.jpg\n",
      "3695064885_a6922f06b2.jpg\n",
      "1679557684_50a206e4a9.jpg\n",
      "3582685410_05315a15b8.jpg\n",
      "Flickr_8k.testImages.txt found.\n",
      "Sample lines from Flickr_8k.testImages.txt:\n",
      "3385593926_d3e9c21170.jpg\n",
      "2677656448_6b7e7702af.jpg\n",
      "311146855_0b65fdb169.jpg\n",
      "1258913059_07c613f7ff.jpg\n",
      "241347760_d44c8d3a01.jpg\n"
     ]
    }
   ],
   "source": [
    "# Verify images\n",
    "image_files = os.listdir(images_dir)\n",
    "print(f'Total images: {len(image_files)}')\n",
    "print(f'Sample images: {image_files[:5]}')\n",
    "\n",
    "# Verify captions\n",
    "if os.path.exists(captions_file):\n",
    "    print(f'Captions file found: {captions_file}')\n",
    "    with open(captions_file, 'r') as f:\n",
    "        captions_sample = [next(f).strip() for _ in range(5)]\n",
    "    print('Sample captions:')\n",
    "    for caption in captions_sample:\n",
    "        print(caption)\n",
    "else:\n",
    "    print('Captions file not found.')\n",
    "\n",
    "# Verify other text files\n",
    "text_files = ['Flickr8k.lemma.token.txt', 'Flickr_8k.trainImages.txt', 'Flickr_8k.devImages.txt', 'Flickr_8k.testImages.txt']\n",
    "for text_file in text_files:\n",
    "    file_path = os.path.join(data_dir, text_file)\n",
    "    if os.path.exists(file_path):\n",
    "        print(f'{text_file} found.')\n",
    "        with open(file_path, 'r') as f:\n",
    "            sample_lines = [next(f).strip() for _ in range(5)]\n",
    "        print(f'Sample lines from {text_file}:')\n",
    "        for line in sample_lines:\n",
    "            print(line)\n",
    "    else:\n",
    "        print(f'{text_file} not found.')"
   ]
  },
  {
   "cell_type": "code",
   "execution_count": null,
   "id": "a3a48d33",
   "metadata": {},
   "outputs": [],
   "source": []
  },
  {
   "cell_type": "markdown",
   "id": "9a96d082",
   "metadata": {},
   "source": [
    "## Clean Up and Reorganize Data Directory\n",
    "Remove unnecessary files and organize the directory structure."
   ]
  },
  {
   "cell_type": "code",
   "execution_count": 4,
   "id": "185d23d3",
   "metadata": {},
   "outputs": [
    {
     "name": "stdout",
     "output_type": "stream",
     "text": [
      "Removed Flickr8k_Dataset.zip\n",
      "Removed Flickr8k_text.zip\n",
      "Removed ../data/__MACOSX\n",
      "Removed ../data/images/__MACOSX\n",
      "Moved images to the correct directory\n",
      "\n",
      "Final directory structure:\n",
      "/\n",
      "    .gitignore\n",
      "    CrowdFlowerAnnotations.txt\n",
      "    ExpertAnnotations.txt\n",
      "    Flickr8k.lemma.token.txt\n",
      "    Flickr8k.token.txt\n",
      "    ...\n",
      "images/\n",
      "    1000268201_693b08cb0e.jpg\n",
      "    1001773457_577c3a7d70.jpg\n",
      "    1002674143_1b742ab4b8.jpg\n",
      "    1003163366_44323f5815.jpg\n",
      "    1007129816_e794419615.jpg\n",
      "    ...\n",
      "processed/\n"
     ]
    }
   ],
   "source": [
    "import shutil\n",
    "\n",
    "# Remove unnecessary zip files after extraction\n",
    "for zip_file in ['Flickr8k_Dataset.zip', 'Flickr8k_text.zip']:\n",
    "    zip_path = os.path.join(data_dir, zip_file)\n",
    "    if os.path.exists(zip_path):\n",
    "        os.remove(zip_path)\n",
    "        print(f'Removed {zip_file}')\n",
    "\n",
    "# Remove MACOSX directories\n",
    "macosx_dirs = [\n",
    "    os.path.join(data_dir, '__MACOSX'),\n",
    "    os.path.join(data_dir, 'images/__MACOSX'),\n",
    "]\n",
    "for dir_path in macosx_dirs:\n",
    "    if os.path.exists(dir_path):\n",
    "        shutil.rmtree(dir_path)\n",
    "        print(f'Removed {dir_path}')\n",
    "\n",
    "# Move images from nested Flicker8k_Dataset folder to images directory\n",
    "nested_images_dir = os.path.join(data_dir, 'images/Flicker8k_Dataset')\n",
    "if os.path.exists(nested_images_dir):\n",
    "    for img in os.listdir(nested_images_dir):\n",
    "        src = os.path.join(nested_images_dir, img)\n",
    "        dst = os.path.join(images_dir, img)\n",
    "        if os.path.exists(src):\n",
    "            shutil.move(src, dst)\n",
    "    shutil.rmtree(nested_images_dir)\n",
    "    print('Moved images to the correct directory')\n",
    "\n",
    "# Create processed directory for later use\n",
    "processed_dir = os.path.join(data_dir, 'processed')\n",
    "os.makedirs(processed_dir, exist_ok=True)\n",
    "\n",
    "print('\\nFinal directory structure:')\n",
    "for root, dirs, files in os.walk(data_dir):\n",
    "    level = root.replace(data_dir, '').count(os.sep)\n",
    "    indent = ' ' * 4 * level\n",
    "    print(f'{indent}{os.path.basename(root)}/')\n",
    "    subindent = ' ' * 4 * (level + 1)\n",
    "    for f in sorted(files)[:5]:  # Show only first 5 files per directory\n",
    "        print(f'{subindent}{f}')\n",
    "    if len(files) > 5:\n",
    "        print(f'{subindent}...')"
   ]
  },
  {
   "cell_type": "markdown",
   "id": "9f1b1255",
   "metadata": {},
   "source": [
    "## Release Resources\n",
    "Clean up resources and call garbage collector to free memory."
   ]
  },
  {
   "cell_type": "code",
   "execution_count": 4,
   "id": "78bcf239",
   "metadata": {},
   "outputs": [
    {
     "name": "stdout",
     "output_type": "stream",
     "text": [
      "Resources released and garbage collector invoked.\n"
     ]
    }
   ],
   "source": [
    "import gc\n",
    "\n",
    "# Release resources and call garbage collector\n",
    "gc.collect()\n",
    "print(\"Resources released and garbage collector invoked.\")"
   ]
  }
 ],
 "metadata": {
  "kernelspec": {
   "display_name": "Python 3",
   "language": "python",
   "name": "python3"
  },
  "language_info": {
   "codemirror_mode": {
    "name": "ipython",
    "version": 3
   },
   "file_extension": ".py",
   "mimetype": "text/x-python",
   "name": "python",
   "nbconvert_exporter": "python",
   "pygments_lexer": "ipython3",
   "version": "3.11.11"
  }
 },
 "nbformat": 4,
 "nbformat_minor": 5
}
