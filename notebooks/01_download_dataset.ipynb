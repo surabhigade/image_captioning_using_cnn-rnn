{
 "cells": [
  {
   "cell_type": "markdown",
   "id": "dbb27813",
   "metadata": {},
   "source": [
    "# Download Flickr8k Dataset\n",
    "This notebook downloads and organizes the Flickr8k dataset, including images and captions."
   ]
  },
  {
   "cell_type": "code",
   "execution_count": 1,
   "id": "172c5ff4",
   "metadata": {},
   "outputs": [
    {
     "name": "stderr",
     "output_type": "stream",
     "text": [
      "/Users/surabhigade/VSCodeProjects/cnn_rnn/.venv/lib/python3.9/site-packages/urllib3/__init__.py:35: NotOpenSSLWarning: urllib3 v2 only supports OpenSSL 1.1.1+, currently the 'ssl' module is compiled with 'LibreSSL 2.8.3'. See: https://github.com/urllib3/urllib3/issues/3020\n",
      "  warnings.warn(\n"
     ]
    }
   ],
   "source": [
    "# Import required libraries\n",
    "import os\n",
    "import requests\n",
    "from zipfile import ZipFile"
   ]
  },
  {
   "cell_type": "markdown",
   "id": "1140667d",
   "metadata": {},
   "source": [
    "## Define URLs and Paths\n",
    "Set up the URLs for downloading the dataset and the paths for saving the files."
   ]
  },
  {
   "cell_type": "code",
   "execution_count": null,
   "id": "e57a72f5",
   "metadata": {},
   "outputs": [],
   "source": [
    "# URLs for Flickr8k dataset\n",
    "images_url = 'https://github.com/jbrownlee/Datasets/releases/download/Flickr8k/Flickr8k_Dataset.zip'\n",
    "captions_url = 'https://github.com/jbrownlee/Datasets/releases/download/Flickr8k/Flickr8k_text.zip'\n",
    "\n",
    "# Paths for saving the dataset\n",
    "data_dir = '../data/'\n",
    "images_dir = os.path.join(data_dir, 'images/')\n",
    "captions_file = os.path.join(data_dir, 'captions.txt')\n",
    "\n",
    "# Create directories if they don't exist\n",
    "os.makedirs(images_dir, exist_ok=True)"
   ]
  },
  {
   "cell_type": "markdown",
   "id": "2113a2bc",
   "metadata": {},
   "source": [
    "## Download and Extract Dataset\n",
    "Download the images and captions, then extract them into the appropriate folders."
   ]
  },
  {
   "cell_type": "code",
   "execution_count": 3,
   "id": "fc2731e6",
   "metadata": {},
   "outputs": [
    {
     "name": "stdout",
     "output_type": "stream",
     "text": [
      "Downloading https://github.com/jbrownlee/Datasets/releases/download/Flickr8k/Flickr8k_Dataset.zip...\n",
      "Download complete.\n",
      "Extracting ../data/Flickr8k_Dataset.zip...\n",
      "Extraction complete.\n",
      "Downloading https://github.com/jbrownlee/Datasets/releases/download/Flickr8k/Flickr8k_text.zip...\n",
      "Download complete.\n",
      "Extracting ../data/Flickr8k_text.zip...\n",
      "Extraction complete.\n"
     ]
    }
   ],
   "source": [
    "def download_and_extract(url, extract_to):\n",
    "    \"\"\"Download and extract a zip file from a URL.\"\"\"\n",
    "    zip_path = os.path.join(data_dir, url.split('/')[-1])\n",
    "    if not os.path.exists(zip_path):\n",
    "        print(f'Downloading {url}...')\n",
    "        response = requests.get(url)\n",
    "        with open(zip_path, 'wb') as f:\n",
    "            f.write(response.content)\n",
    "        print('Download complete.')\n",
    "    else:\n",
    "        print(f'{zip_path} already exists.')\n",
    "\n",
    "    print(f'Extracting {zip_path}...')\n",
    "    with ZipFile(zip_path, 'r') as zip_ref:\n",
    "        zip_ref.extractall(extract_to)\n",
    "    print('Extraction complete.')\n",
    "\n",
    "# Download and extract images\n",
    "download_and_extract(images_url, images_dir)\n",
    "\n",
    "# Download and extract captions\n",
    "download_and_extract(captions_url, data_dir)"
   ]
  },
  {
   "cell_type": "markdown",
   "id": "2602f0ed",
   "metadata": {},
   "source": [
    "## Verify Dataset\n",
    "Check the number of images and the captions file."
   ]
  },
  {
   "cell_type": "code",
   "execution_count": 5,
   "id": "835b3a28",
   "metadata": {},
   "outputs": [
    {
     "name": "stdout",
     "output_type": "stream",
     "text": [
      "Total images: 8091\n",
      "Sample images: ['2387197355_237f6f41ee.jpg', '2609847254_0ec40c1cce.jpg', '2046222127_a6f300e202.jpg', '2853743795_e90ebc669d.jpg', '2696951725_e0ae54f6da.jpg']\n",
      "Captions file not found.\n",
      "Flickr8k.lemma.token.txt found.\n",
      "Sample lines from Flickr8k.lemma.token.txt:\n",
      "1305564994_00513f9a5b.jpg#0\tA man in street racer armor be examine the tire of another racer 's motorbike .\n",
      "1305564994_00513f9a5b.jpg#1\tTwo racer drive a white bike down a road .\n",
      "1305564994_00513f9a5b.jpg#2\tTwo motorist be ride along on their vehicle that be oddly design and color .\n",
      "1305564994_00513f9a5b.jpg#3\tTwo person be in a small race car drive by a green hill .\n",
      "1305564994_00513f9a5b.jpg#4\tTwo person in race uniform in a street car .\n",
      "Flickr_8k.trainImages.txt found.\n",
      "Sample lines from Flickr_8k.trainImages.txt:\n",
      "2513260012_03d33305cf.jpg\n",
      "2903617548_d3e38d7f88.jpg\n",
      "3338291921_fe7ae0c8f8.jpg\n",
      "488416045_1c6d903fe0.jpg\n",
      "2644326817_8f45080b87.jpg\n",
      "Flickr_8k.devImages.txt found.\n",
      "Sample lines from Flickr_8k.devImages.txt:\n",
      "2090545563_a4e66ec76b.jpg\n",
      "3393035454_2d2370ffd4.jpg\n",
      "3695064885_a6922f06b2.jpg\n",
      "1679557684_50a206e4a9.jpg\n",
      "3582685410_05315a15b8.jpg\n",
      "Flickr_8k.testImages.txt found.\n",
      "Sample lines from Flickr_8k.testImages.txt:\n",
      "3385593926_d3e9c21170.jpg\n",
      "2677656448_6b7e7702af.jpg\n",
      "311146855_0b65fdb169.jpg\n",
      "1258913059_07c613f7ff.jpg\n",
      "241347760_d44c8d3a01.jpg\n"
     ]
    }
   ],
   "source": [
    "# Verify images\n",
    "image_files = os.listdir(images_dir)\n",
    "print(f'Total images: {len(image_files)}')\n",
    "print(f'Sample images: {image_files[:5]}')\n",
    "\n",
    "# Verify captions\n",
    "if os.path.exists(captions_file):\n",
    "    print(f'Captions file found: {captions_file}')\n",
    "    with open(captions_file, 'r') as f:\n",
    "        captions_sample = [next(f).strip() for _ in range(5)]\n",
    "    print('Sample captions:')\n",
    "    for caption in captions_sample:\n",
    "        print(caption)\n",
    "else:\n",
    "    print('Captions file not found.')\n",
    "\n",
    "# Verify other text files\n",
    "text_files = ['Flickr8k.lemma.token.txt', 'Flickr_8k.trainImages.txt', 'Flickr_8k.devImages.txt', 'Flickr_8k.testImages.txt']\n",
    "for text_file in text_files:\n",
    "    file_path = os.path.join(data_dir, text_file)\n",
    "    if os.path.exists(file_path):\n",
    "        print(f'{text_file} found.')\n",
    "        with open(file_path, 'r') as f:\n",
    "            sample_lines = [next(f).strip() for _ in range(5)]\n",
    "        print(f'Sample lines from {text_file}:')\n",
    "        for line in sample_lines:\n",
    "            print(line)\n",
    "    else:\n",
    "        print(f'{text_file} not found.')"
   ]
  },
  {
   "cell_type": "code",
   "execution_count": null,
   "id": "a3a48d33",
   "metadata": {},
   "outputs": [],
   "source": []
  }
 ],
 "metadata": {
  "kernelspec": {
   "display_name": ".venv",
   "language": "python",
   "name": "python3"
  },
  "language_info": {
   "codemirror_mode": {
    "name": "ipython",
    "version": 3
   },
   "file_extension": ".py",
   "mimetype": "text/x-python",
   "name": "python",
   "nbconvert_exporter": "python",
   "pygments_lexer": "ipython3",
   "version": "3.9.6"
  }
 },
 "nbformat": 4,
 "nbformat_minor": 5
}
