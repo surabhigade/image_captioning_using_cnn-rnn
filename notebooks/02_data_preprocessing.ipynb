{
 "cells": [
  {
   "cell_type": "markdown",
   "id": "ce82d716",
   "metadata": {},
   "source": [
    "# Data Preprocessing\n",
    "This notebook preprocesses the Flickr8k dataset by tokenizing captions, building a vocabulary, mapping words to integers, and resizing and normalizing images."
   ]
  },
  {
   "cell_type": "code",
   "execution_count": 1,
   "id": "f199aa5e",
   "metadata": {},
   "outputs": [
    {
     "name": "stderr",
     "output_type": "stream",
     "text": [
      "2025-05-03 15:39:54.019006: I tensorflow/core/platform/cpu_feature_guard.cc:210] This TensorFlow binary is optimized to use available CPU instructions in performance-critical operations.\n",
      "To enable the following instructions: AVX2 FMA, in other operations, rebuild TensorFlow with the appropriate compiler flags.\n",
      "/Users/surabhigade/VSCodeProjects/cnn_rnn/.venv/lib/python3.9/site-packages/urllib3/__init__.py:35: NotOpenSSLWarning: urllib3 v2 only supports OpenSSL 1.1.1+, currently the 'ssl' module is compiled with 'LibreSSL 2.8.3'. See: https://github.com/urllib3/urllib3/issues/3020\n",
      "  warnings.warn(\n"
     ]
    }
   ],
   "source": [
    "# Import required libraries\n",
    "import os\n",
    "import numpy as np\n",
    "import pandas as pd\n",
    "from tensorflow.keras.preprocessing.text import Tokenizer\n",
    "from tensorflow.keras.preprocessing.sequence import pad_sequences\n",
    "from tensorflow.keras.applications.vgg16 import VGG16, preprocess_input\n",
    "from tensorflow.keras.utils import to_categorical\n",
    "from tensorflow.keras.preprocessing.image import load_img, img_to_array"
   ]
  },
  {
   "cell_type": "markdown",
   "id": "ca2adbb3",
   "metadata": {},
   "source": [
    "## Load Captions\n",
    "Load and clean the captions from the Flickr8k.token.txt file."
   ]
  },
  {
   "cell_type": "code",
   "execution_count": 2,
   "id": "0110a693",
   "metadata": {},
   "outputs": [
    {
     "name": "stdout",
     "output_type": "stream",
     "text": [
      "Loaded 8092 images with captions.\n"
     ]
    }
   ],
   "source": [
    "# Load captions\n",
    "captions_file = '../data/Flickr8k.token.txt'\n",
    "def load_captions(file_path):\n",
    "    captions = {}\n",
    "    with open(file_path, 'r') as f:\n",
    "        for line in f:\n",
    "            tokens = line.strip().split()\n",
    "            image_id, caption = tokens[0], ' '.join(tokens[1:])\n",
    "            image_id = image_id.split('#')[0]\n",
    "            if image_id not in captions:\n",
    "                captions[image_id] = []\n",
    "            captions[image_id].append(caption)\n",
    "    return captions\n",
    "captions = load_captions(captions_file)\n",
    "print(f'Loaded {len(captions)} images with captions.')"
   ]
  },
  {
   "cell_type": "markdown",
   "id": "f97ff8b7",
   "metadata": {},
   "source": [
    "## Tokenize Captions\n",
    "Tokenize the captions and build a vocabulary."
   ]
  },
  {
   "cell_type": "code",
   "execution_count": 3,
   "id": "66d2ea50",
   "metadata": {},
   "outputs": [
    {
     "name": "stdout",
     "output_type": "stream",
     "text": [
      "Vocabulary size: 8494\n"
     ]
    }
   ],
   "source": [
    "# Tokenize captions\n",
    "def tokenize_captions(captions):\n",
    "    all_captions = [caption for caption_list in captions.values() for caption in caption_list]\n",
    "    tokenizer = Tokenizer()\n",
    "    tokenizer.fit_on_texts(all_captions)\n",
    "    vocab_size = len(tokenizer.word_index) + 1\n",
    "    print(f'Vocabulary size: {vocab_size}')\n",
    "    return tokenizer, vocab_size\n",
    "tokenizer, vocab_size = tokenize_captions(captions)"
   ]
  },
  {
   "cell_type": "markdown",
   "id": "e69e17ec",
   "metadata": {},
   "source": [
    "## Resize and Normalize Images\n",
    "Resize images to 224x224 and normalize pixel values."
   ]
  },
  {
   "cell_type": "code",
   "execution_count": 7,
   "id": "fa6d3df4",
   "metadata": {},
   "outputs": [
    {
     "name": "stdout",
     "output_type": "stream",
     "text": [
      "Processed 8091 images.\n"
     ]
    }
   ],
   "source": [
    "# Resize and normalize images\n",
    "def preprocess_images(image_dir, target_size=(224, 224)):\n",
    "    image_features = {}\n",
    "    for image_name in os.listdir(image_dir):\n",
    "        image_path = os.path.join(image_dir, image_name)\n",
    "        image = load_img(image_path, target_size=target_size)\n",
    "        image = img_to_array(image)\n",
    "        image = preprocess_input(image)\n",
    "        image_features[image_name] = image\n",
    "    return image_features\n",
    "image_dir = '../data/images/'\n",
    "image_features = preprocess_images(image_dir)\n",
    "print(f'Processed {len(image_features)} images.')"
   ]
  },
  {
   "cell_type": "markdown",
   "id": "5baf8f83",
   "metadata": {},
   "source": [
    "## Save Processed Data\n",
    "Save the tokenized captions and preprocessed image features into the `data/processed/` directory."
   ]
  },
  {
   "cell_type": "code",
   "execution_count": 8,
   "id": "b0469642",
   "metadata": {},
   "outputs": [
    {
     "name": "stdout",
     "output_type": "stream",
     "text": [
      "Tokenized captions saved to ../data/processed/tokenized_captions.pkl\n",
      "Tokenizer saved to ../data/processed/tokenizer.pkl\n",
      "Image features saved to ../data/processed/image_features.pkl\n"
     ]
    }
   ],
   "source": [
    "# Save tokenized captions\n",
    "import pickle\n",
    "processed_dir = '../data/processed/'\n",
    "os.makedirs(processed_dir, exist_ok=True)\n",
    "tokenized_captions_path = os.path.join(processed_dir, 'tokenized_captions.pkl')\n",
    "with open(tokenized_captions_path, 'wb') as f:\n",
    "    pickle.dump(captions, f)\n",
    "print(f'Tokenized captions saved to {tokenized_captions_path}')\n",
    "\n",
    "# Save tokenizer\n",
    "tokenizer_path = os.path.join(processed_dir, 'tokenizer.pkl')\n",
    "with open(tokenizer_path, 'wb') as f:\n",
    "    pickle.dump(tokenizer, f)\n",
    "print(f'Tokenizer saved to {tokenizer_path}')\n",
    "\n",
    "# Save image features\n",
    "image_features_path = os.path.join(processed_dir, 'image_features.pkl')\n",
    "with open(image_features_path, 'wb') as f:\n",
    "    pickle.dump(image_features, f)\n",
    "print(f'Image features saved to {image_features_path}')"
   ]
  },
  {
   "cell_type": "markdown",
   "id": "e3f859a5",
   "metadata": {},
   "source": [
    "## Split Dataset\n",
    "Split the dataset into training, validation, and testing sets based on the provided text files."
   ]
  },
  {
   "cell_type": "code",
   "execution_count": 9,
   "id": "09d72565",
   "metadata": {},
   "outputs": [
    {
     "name": "stdout",
     "output_type": "stream",
     "text": [
      "Training set: 6000 images\n",
      "Validation set: 1000 images\n",
      "Testing set: 1000 images\n",
      "Dataset split and saved successfully.\n"
     ]
    }
   ],
   "source": [
    "# Load image IDs for each split\n",
    "def load_image_ids(file_path):\n",
    "    with open(file_path, 'r') as f:\n",
    "        return set(line.strip() for line in f)\n",
    "\n",
    "train_ids = load_image_ids('../data/Flickr_8k.trainImages.txt')\n",
    "val_ids = load_image_ids('../data/Flickr_8k.devImages.txt')\n",
    "test_ids = load_image_ids('../data/Flickr_8k.testImages.txt')\n",
    "\n",
    "print(f'Training set: {len(train_ids)} images')\n",
    "print(f'Validation set: {len(val_ids)} images')\n",
    "print(f'Testing set: {len(test_ids)} images')\n",
    "\n",
    "# Split captions and image features\n",
    "def split_data(captions, image_features, train_ids, val_ids, test_ids):\n",
    "    train_captions = {k: v for k, v in captions.items() if k in train_ids}\n",
    "    val_captions = {k: v for k, v in captions.items() if k in val_ids}\n",
    "    test_captions = {k: v for k, v in captions.items() if k in test_ids}\n",
    "\n",
    "    train_features = {k: v for k, v in image_features.items() if k in train_ids}\n",
    "    val_features = {k: v for k, v in image_features.items() if k in val_ids}\n",
    "    test_features = {k: v for k, v in image_features.items() if k in test_ids}\n",
    "\n",
    "    return train_captions, val_captions, test_captions, train_features, val_features, test_features\n",
    "\n",
    "train_captions, val_captions, test_captions, train_features, val_features, test_features = split_data(captions, image_features, train_ids, val_ids, test_ids)\n",
    "\n",
    "# Save splits\n",
    "with open(os.path.join(processed_dir, 'train_captions.pkl'), 'wb') as f:\n",
    "    pickle.dump(train_captions, f)\n",
    "with open(os.path.join(processed_dir, 'val_captions.pkl'), 'wb') as f:\n",
    "    pickle.dump(val_captions, f)\n",
    "with open(os.path.join(processed_dir, 'test_captions.pkl'), 'wb') as f:\n",
    "    pickle.dump(test_captions, f)\n",
    "\n",
    "with open(os.path.join(processed_dir, 'train_features.pkl'), 'wb') as f:\n",
    "    pickle.dump(train_features, f)\n",
    "with open(os.path.join(processed_dir, 'val_features.pkl'), 'wb') as f:\n",
    "    pickle.dump(val_features, f)\n",
    "with open(os.path.join(processed_dir, 'test_features.pkl'), 'wb') as f:\n",
    "    pickle.dump(test_features, f)\n",
    "\n",
    "print('Dataset split and saved successfully.')"
   ]
  },
  {
   "cell_type": "markdown",
   "id": "9f4d0976",
   "metadata": {},
   "source": [
    "## Verify Preprocessed Data\n",
    "Check if the tokenized captions, tokenizer, and image features are saved correctly."
   ]
  },
  {
   "cell_type": "code",
   "execution_count": 10,
   "id": "b82d19ec",
   "metadata": {},
   "outputs": [
    {
     "name": "stdout",
     "output_type": "stream",
     "text": [
      "Tokenized captions loaded successfully. Total images: 8092\n",
      "Tokenizer loaded successfully.\n",
      "Image features loaded successfully. Total images: 8091\n"
     ]
    }
   ],
   "source": [
    "# Verify tokenized captions\n",
    "tokenized_captions_path = '../data/processed/tokenized_captions.pkl'\n",
    "if os.path.exists(tokenized_captions_path):\n",
    "    with open(tokenized_captions_path, 'rb') as f:\n",
    "        tokenized_captions = pickle.load(f)\n",
    "    print(f'Tokenized captions loaded successfully. Total images: {len(tokenized_captions)}')\n",
    "else:\n",
    "    print('Tokenized captions file not found.')\n",
    "\n",
    "# Verify tokenizer\n",
    "tokenizer_path = '../data/processed/tokenizer.pkl'\n",
    "if os.path.exists(tokenizer_path):\n",
    "    with open(tokenizer_path, 'rb') as f:\n",
    "        tokenizer = pickle.load(f)\n",
    "    print('Tokenizer loaded successfully.')\n",
    "else:\n",
    "    print('Tokenizer file not found.')\n",
    "\n",
    "# Verify image features\n",
    "image_features_path = '../data/processed/image_features.pkl'\n",
    "if os.path.exists(image_features_path):\n",
    "    with open(image_features_path, 'rb') as f:\n",
    "        image_features = pickle.load(f)\n",
    "    print(f'Image features loaded successfully. Total images: {len(image_features)}')\n",
    "else:\n",
    "    print('Image features file not found.')"
   ]
  }
 ],
 "metadata": {
  "kernelspec": {
   "display_name": ".venv",
   "language": "python",
   "name": "python3"
  },
  "language_info": {
   "codemirror_mode": {
    "name": "ipython",
    "version": 3
   },
   "file_extension": ".py",
   "mimetype": "text/x-python",
   "name": "python",
   "nbconvert_exporter": "python",
   "pygments_lexer": "ipython3",
   "version": "3.9.6"
  }
 },
 "nbformat": 4,
 "nbformat_minor": 5
}
